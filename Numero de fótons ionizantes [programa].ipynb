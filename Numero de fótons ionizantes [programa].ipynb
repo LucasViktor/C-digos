{
 "cells": [
  {
   "cell_type": "markdown",
   "metadata": {},
   "source": [
    "# Numero de fótons ionizantes"
   ]
  },
  {
   "cell_type": "code",
   "execution_count": 1,
   "metadata": {},
   "outputs": [],
   "source": [
    "from astropy import units as u\n",
    "from astropy import constants as const\n",
    "from scipy.integrate import quad\n",
    "from scipy.special import zeta\n",
    "import numpy as np\n",
    "import sympy as sp\n",
    "from math import log\n",
    "from math import exp\n",
    "from math import inf\n",
    "import numpy as np"
   ]
  },
  {
   "cell_type": "code",
   "execution_count": 2,
   "metadata": {},
   "outputs": [],
   "source": [
    "# Constantes \n",
    "#Unidades no CGS\n",
    "K = 1.38064852*(10**(-16))\n",
    "h =  6.62606885*(10**(-27))\n",
    "c = 3*(10**10)\n",
    "R_sun = 69570000000.0"
   ]
  },
  {
   "cell_type": "code",
   "execution_count": 8,
   "metadata": {},
   "outputs": [],
   "source": [
    "# As variáveis que devem entrar são WAV (comprimento de onda em angstrons, Temperatura [K],\n",
    "# R é a razão raio da estrela sobre raio do sol \n",
    "#Número de fótons ionizantes por segundo \n",
    "def number_of_ionizing_photons(wav,T,R):\n",
    "    R_star = R*R_sun\n",
    "    wav_cgs = wav*(10**(-8))\n",
    "    u0 = c/wav_cgs\n",
    "    x0 = (h*u0)/(K*T)\n",
    "    def f(x):      # Nesse bloco resolvo a integral\n",
    "        return (x**2)*exp(-x)\n",
    "    i ,r = quad(f,x0,inf)\n",
    "    soluction = zeta(3)*i  #Solução da integral\n",
    "    Q0 = (soluction*8*(np.pi**2)*(R_star**2)*(K**3)*(T**3))/((c**2)*(h**3)) # Calculo de Q\n",
    "    result_full = log(Q0,10) # Log de Q sem arrendondar \n",
    "    result_rounded = round(result_full,2) # log de Q arredondado \n",
    "    return result_rounded"
   ]
  },
  {
   "cell_type": "code",
   "execution_count": 4,
   "metadata": {},
   "outputs": [
    {
     "name": "stdout",
     "output_type": "stream",
     "text": [
      "[47.57, 47.15, 45.61]\n"
     ]
    }
   ],
   "source": [
    "NGC40_HI  = number_of_ionizing_photons(912,70840,0.43)\n",
    "NGC40_HeI = number_of_ionizing_photons(504,70840,0.43)\n",
    "NGC40_HeII = number_of_ionizing_photons(228,70840,0.43)\n",
    "Resultados = [NGC40_HI,NGC40_HeI,NGC40_HeII]\n",
    "print(Resultados)"
   ]
  },
  {
   "cell_type": "code",
   "execution_count": 9,
   "metadata": {},
   "outputs": [
    {
     "name": "stdout",
     "output_type": "stream",
     "text": [
      "[47.6, 47.21, 45.77]\n"
     ]
    }
   ],
   "source": [
    "NGC5311_HI  = number_of_ionizing_photons(912,74590,0.40)\n",
    "NGC5311_HeI = number_of_ionizing_photons(504,74590,0.40)\n",
    "NGC5311_HeII = number_of_ionizing_photons(228,74590,0.40)\n",
    "Resultados2 = [NGC5311_HI,NGC5311_HeI,NGC5311_HeII]\n",
    "print(Resultados2)"
   ]
  },
  {
   "cell_type": "code",
   "execution_count": 10,
   "metadata": {},
   "outputs": [
    {
     "name": "stdout",
     "output_type": "stream",
     "text": [
      "[47.51, 46.73, 44.13]\n"
     ]
    }
   ],
   "source": [
    "BD303639_HI  = number_of_ionizing_photons(912,46720,1)\n",
    "BD303639_HeI = number_of_ionizing_photons(504,46720,1)\n",
    "BD303639_HeII = number_of_ionizing_photons(228,46720,1)\n",
    "Resultados3 = [BD303639_HI,BD303639_HeI,BD303639_HeII]\n",
    "print(Resultados3)"
   ]
  },
  {
   "cell_type": "code",
   "execution_count": 7,
   "metadata": {},
   "outputs": [
    {
     "name": "stdout",
     "output_type": "stream",
     "text": [
      "[47.35, 46.32, 42.99]\n"
     ]
    }
   ],
   "source": [
    "BBSTAR_HI  = number_of_ionizing_photons(912,38000,1.43)\n",
    "BBSTAR_HeI = number_of_ionizing_photons(504,38000,1.43)\n",
    "BBSTAR_HeII = number_of_ionizing_photons(228,38000,1.43)\n",
    "Resultados = [BBSTAR_HI,BBSTAR_HeI,BBSTAR_HeII]\n",
    "print(Resultados)"
   ]
  },
  {
   "cell_type": "code",
   "execution_count": null,
   "metadata": {},
   "outputs": [],
   "source": []
  },
  {
   "cell_type": "code",
   "execution_count": null,
   "metadata": {},
   "outputs": [],
   "source": []
  }
 ],
 "metadata": {
  "kernelspec": {
   "display_name": "Python 3",
   "language": "python",
   "name": "python3"
  },
  "language_info": {
   "codemirror_mode": {
    "name": "ipython",
    "version": 3
   },
   "file_extension": ".py",
   "mimetype": "text/x-python",
   "name": "python",
   "nbconvert_exporter": "python",
   "pygments_lexer": "ipython3",
   "version": "3.7.3"
  }
 },
 "nbformat": 4,
 "nbformat_minor": 2
}
