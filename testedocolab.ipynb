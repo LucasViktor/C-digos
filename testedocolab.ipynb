{
  "nbformat": 4,
  "nbformat_minor": 0,
  "metadata": {
    "colab": {
      "name": "Untitled0.ipynb",
      "provenance": [],
      "authorship_tag": "ABX9TyOsO/9tMJS9+ljIhdVZ0sg4"
    },
    "kernelspec": {
      "name": "python3",
      "display_name": "Python 3"
    }
  },
  "cells": [
    {
      "cell_type": "code",
      "metadata": {
        "id": "zyHvIIElz44A",
        "colab_type": "code",
        "colab": {
          "base_uri": "https://localhost:8080/",
          "height": 85
        },
        "outputId": "5530268a-dd36-4973-f99a-c12634ca1ee7"
      },
      "source": [
        "print('hello world!')\n",
        "a = float(input('entre com o primeiro número: '))\n",
        "b = float(input('entre com o primeiro número: '))\n",
        "soma = a + b\n",
        "print(soma)"
      ],
      "execution_count": 3,
      "outputs": [
        {
          "output_type": "stream",
          "text": [
            "hello world!\n",
            "entre com o primeiro número: 26\n",
            "entre com o primeiro número: 75\n",
            "101.0\n"
          ],
          "name": "stdout"
        }
      ]
    }
  ]
}